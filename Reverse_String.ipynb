{
  "nbformat": 4,
  "nbformat_minor": 0,
  "metadata": {
    "colab": {
      "name": "Reverse String.ipynb",
      "private_outputs": true,
      "provenance": []
    },
    "kernelspec": {
      "name": "python3",
      "display_name": "Python 3"
    },
    "language_info": {
      "name": "python"
    }
  },
  "cells": [
    {
      "cell_type": "code",
      "execution_count": null,
      "metadata": {
        "id": "oJZ5KDl_5sxS"
      },
      "outputs": [],
      "source": [
        "def reverse(string):\n",
        "  string = string[::-1]\n",
        "  return string"
      ]
    },
    {
      "cell_type": "code",
      "source": [
        "def reverseTwo(string):\n",
        "  str = \"\"\n",
        "  for i in string:\n",
        "    str = i + str\n",
        "  return str"
      ],
      "metadata": {
        "id": "in7fmiJS76gJ"
      },
      "execution_count": null,
      "outputs": []
    },
    {
      "cell_type": "code",
      "source": [
        "reverse(\"shubhendu\")"
      ],
      "metadata": {
        "id": "QMqYmJR78X8q"
      },
      "execution_count": null,
      "outputs": []
    },
    {
      "cell_type": "code",
      "source": [
        "reverseTwo(\"Shubham\")"
      ],
      "metadata": {
        "id": "d3e3X_Vn8mPJ"
      },
      "execution_count": null,
      "outputs": []
    },
    {
      "cell_type": "code",
      "source": [
        ""
      ],
      "metadata": {
        "id": "H-tXdstm8u9I"
      },
      "execution_count": null,
      "outputs": []
    }
  ]
}

